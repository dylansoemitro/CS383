{
  "cells": [
    {
      "cell_type": "code",
      "source": [
        "from google.colab import drive\n",
        "drive.mount('/content/drive')"
      ],
      "metadata": {
        "colab": {
          "base_uri": "https://localhost:8080/"
        },
        "id": "4db3eSNtmwyf",
        "outputId": "aecabb38-6e9b-478f-ed49-ae16aed7ba94"
      },
      "execution_count": 1,
      "outputs": [
        {
          "output_type": "stream",
          "name": "stdout",
          "text": [
            "Mounted at /content/drive\n"
          ]
        }
      ]
    },
    {
      "cell_type": "code",
      "source": [
        "%cd drive/MyDrive/Colab Notebooks/lesson-files"
      ],
      "metadata": {
        "colab": {
          "base_uri": "https://localhost:8080/"
        },
        "id": "uyJG8ZSpm9B-",
        "outputId": "42d7b962-4c8a-4f0b-ca7d-29f7296503b9"
      },
      "execution_count": 6,
      "outputs": [
        {
          "output_type": "stream",
          "name": "stdout",
          "text": [
            "[Errno 2] No such file or directory: 'drive/MyDrive'\n",
            "/content/drive\n"
          ]
        }
      ]
    },
    {
      "cell_type": "code",
      "execution_count": 14,
      "metadata": {
        "colab": {
          "base_uri": "https://localhost:8080/"
        },
        "id": "B7RUO3TUmvpK",
        "outputId": "2dd836c4-ae52-41c8-9c0a-d16d08f57b79"
      },
      "outputs": [
        {
          "output_type": "stream",
          "name": "stdout",
          "text": [
            "366\n"
          ]
        }
      ],
      "source": [
        "from pathlib import Path\n",
        "\n",
        "all_txt_files =[]\n",
        "for file in Path(\"txt\").rglob(\"*.txt\"):\n",
        "     all_txt_files.append(file.parent / file.name)\n",
        "# counts the length of the list\n",
        "n_files = len(all_txt_files)\n",
        "print(n_files)"
      ]
    },
    {
      "cell_type": "code",
      "execution_count": 15,
      "metadata": {
        "colab": {
          "base_uri": "https://localhost:8080/"
        },
        "id": "O1K9Vep_mvpM",
        "outputId": "963b7dab-796b-4419-cd54-922b75448990"
      },
      "outputs": [
        {
          "output_type": "execute_result",
          "data": {
            "text/plain": [
              "PosixPath('txt/0101.txt')"
            ]
          },
          "metadata": {},
          "execution_count": 15
        }
      ],
      "source": [
        "all_txt_files.sort()\n",
        "all_txt_files[0]"
      ]
    },
    {
      "cell_type": "code",
      "execution_count": 16,
      "metadata": {
        "id": "OagAcugMmvpN"
      },
      "outputs": [],
      "source": [
        "all_docs = []\n",
        "for txt_file in all_txt_files:\n",
        "    with open(txt_file) as f:\n",
        "        txt_file_as_string = f.read()\n",
        "    all_docs.append(txt_file_as_string)"
      ]
    },
    {
      "cell_type": "code",
      "source": [
        "#import the TfidfVectorizer from Scikit-Learn.  \n",
        "from sklearn.feature_extraction.text import TfidfVectorizer\n",
        "vectorizer = TfidfVectorizer(max_df=.65, min_df=1, stop_words=None, use_idf=True, norm=None)\n",
        "transformed_documents = vectorizer.fit_transform(all_docs)\n"
      ],
      "metadata": {
        "id": "J7bWWaEByceR"
      },
      "execution_count": 24,
      "outputs": []
    },
    {
      "cell_type": "code",
      "execution_count": 23,
      "metadata": {
        "colab": {
          "base_uri": "https://localhost:8080/",
          "height": 295
        },
        "id": "6EyXg2M7mvpN",
        "outputId": "2684e156-d79e-4d4c-f936-dfc60d9ef5b1"
      },
      "outputs": [
        {
          "output_type": "display_data",
          "data": {
            "text/plain": [
              "<Figure size 432x288 with 1 Axes>"
            ],
            "image/png": "[encoded data removed]"
          },
          "metadata": {
            "needs_background": "light"
          }
        }
      ],
      "source": [
        "#import the TfidfVectorizer from Scikit-Learn.  \n",
        "from sklearn.feature_extraction.text import TfidfVectorizer\n",
        "from sklearn.decomposition import TruncatedSVD\n",
        "import matplotlib.pyplot as plt\n",
        "\n",
        "\n",
        "vectorizer = TfidfVectorizer(max_df=.65, min_df=1, stop_words=None, use_idf=True, norm=None)\n",
        "transformed_documents = vectorizer.fit_transform(all_docs)\n",
        "svd = TruncatedSVD(n_components=2)\n",
        "reduced_matrix = svd.fit_transform(transformed_documents)\n",
        "\n",
        "plt.scatter(reduced_matrix[:, 0], reduced_matrix[:, 1])\n",
        "plt.xlabel(\"First Principal Component\")\n",
        "plt.ylabel(\"Second Principal Component\")\n",
        "plt.title(\"2D Representation of Document Term Matrix after SVD\")\n",
        "plt.show()"
      ]
    },
    {
      "cell_type": "markdown",
      "source": [
        "There seems to be a singular main group with a few outliers. Most of the documents seems to thus be quite similar to each other. "
      ],
      "metadata": {
        "id": "Noz3hHI6rF5y"
      }
    },
    {
      "cell_type": "code",
      "execution_count": 18,
      "metadata": {
        "colab": {
          "base_uri": "https://localhost:8080/"
        },
        "id": "EYup41m1mvpN",
        "outputId": "11ca32d3-5e8e-41b1-af20-c1082efe209b"
      },
      "outputs": [
        {
          "output_type": "execute_result",
          "data": {
            "text/plain": [
              "366"
            ]
          },
          "metadata": {},
          "execution_count": 18
        }
      ],
      "source": [
        "transformed_documents_as_array = transformed_documents.toarray()\n",
        "# use this line of code to verify that the numpy array represents the same number of documents that we have in the file list\n",
        "len(transformed_documents_as_array)"
      ]
    },
    {
      "cell_type": "code",
      "execution_count": 19,
      "metadata": {
        "id": "yuFqnSDCmvpO"
      },
      "outputs": [],
      "source": [
        "import pandas as pd\n",
        "\n",
        "# make the output folder if it doesn't already exist\n",
        "Path(\"./tf_idf_output\").mkdir(parents=True, exist_ok=True)"
      ]
    },
    {
      "cell_type": "code",
      "execution_count": 20,
      "metadata": {
        "colab": {
          "base_uri": "https://localhost:8080/"
        },
        "id": "tgYfiRVSmvpO",
        "outputId": "d1438fe0-1614-4ab8-d4df-aa90bcaddaf0"
      },
      "outputs": [
        {
          "output_type": "stream",
          "name": "stderr",
          "text": [
            "/usr/local/lib/python3.8/dist-packages/sklearn/utils/deprecation.py:87: FutureWarning: Function get_feature_names is deprecated; get_feature_names is deprecated in 1.0 and will be removed in 1.2. Please use get_feature_names_out instead.\n",
            "  warnings.warn(msg, category=FutureWarning)\n"
          ]
        }
      ],
      "source": [
        "# construct a list of output file paths using the previous list of text files the relative path for tf_idf_output\n",
        "output_filenames = [str(txt_file).replace(\".txt\", \".csv\").replace(\"txt/\", \"tf_idf_output/\") for txt_file in all_txt_files]\n",
        "\n",
        "# loop each item in transformed_documents_as_array, using enumerate to keep track of the current position\n",
        "for counter, doc in enumerate(transformed_documents_as_array):\n",
        "    # construct a dataframe\n",
        "    tf_idf_tuples = list(zip(vectorizer.get_feature_names(), doc))\n",
        "    one_doc_as_df = pd.DataFrame.from_records(tf_idf_tuples, columns=['term', 'score']).sort_values(by='score', ascending=False).reset_index(drop=True)\n",
        "\n",
        "    # output to a csv using the enumerated value for the filename\n",
        "    one_doc_as_df.to_csv(output_filenames[counter])"
      ]
    }
  ],
  "metadata": {
    "kernelspec": {
      "display_name": "Python 3",
      "language": "python",
      "name": "python3"
    },
    "language_info": {
      "codemirror_mode": {
        "name": "ipython",
        "version": 3
      },
      "file_extension": ".py",
      "mimetype": "text/x-python",
      "name": "python",
      "nbconvert_exporter": "python",
      "pygments_lexer": "ipython3",
      "version": "3.6.5"
    },
    "colab": {
      "provenance": []
    }
  },
  "nbformat": 4,
  "nbformat_minor": 0
}